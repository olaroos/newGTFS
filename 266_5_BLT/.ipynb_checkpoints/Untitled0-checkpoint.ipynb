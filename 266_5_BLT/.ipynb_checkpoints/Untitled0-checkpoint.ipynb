{
 "metadata": {
  "name": ""
 },
 "nbformat": 3,
 "nbformat_minor": 0,
 "worksheets": [
  {
   "cells": [
    {
     "cell_type": "code",
     "collapsed": false,
     "input": [
      "import copy\n",
      "import json\n",
      "\n",
      "theFile = open('./266_5_BLT_stations', 'r')\n",
      "raw     = theFile.readlines()\n",
      "theFile.close()\n",
      "theFile = open('./266_5_BLT_stationNames', 'r')\n",
      "rawName    = theFile.readlines()\n",
      "theFile.close()\n",
      "\n",
      "ids  = []\n",
      "name = []\n",
      "\n",
      "for item in raw:\n",
      "    ids.append(item.strip('\\n'))\n",
      "for item in rawName:\n",
      "    name.append(item.strip('\\n'))\n",
      "    \n",
      "    \n",
      "css = []\n",
      "nestcss = {}\n",
      "nestcss['position'] = 'absolute'\n",
      "nestcss['top'] = '247px'\n",
      "left    = 1000/27\n",
      "for i in range(0,27):\n",
      "    nestcss['sid']  = ids[i]\n",
      "    nestcss['left'] = str(i*left)+'px'\n",
      "    nestcss['id']   = str(i+1)\n",
      "    nestcss['name'] = name[i]                    \n",
      "    css.append(copy.deepcopy(nestcss))\n",
      "\n",
      "output = json.dumps(css)\n",
      "# print>>theFile, output\n",
      "\n",
      "\n",
      "# build hardcoded img string\n",
      "MotherString = \"\"\n",
      "for i in range(0,27):\n",
      "    stationid = str(i+1)\n",
      "    MotherString = MotherString + \"<img src='./img/stationDot5.png' name='\"+ name[i] +\"' style='left:\" + str((i+1)*left + 3) + \";top: 120px; position:absolute; width:22px' id=\" + ids[i] + \" left=\" + str((i+1)*left + 3) + \"px top=120px stationid=\" + stationid + \" ng-click='getStationInfo($event)' track='6' posTime='' posBuss='' negBuss='' negTime=''>\"\n",
      "print MotherString"
     ],
     "language": "python",
     "metadata": {},
     "outputs": [
      {
       "output_type": "stream",
       "stream": "stdout",
       "text": [
        "<img src='./img/stationDot5.png' name='H\u00e4lla k\u00f6pcenter' style='left:40;top: 120px; position:absolute; width:22px' id=7443568 left=40px top=120px stationid=1 ng-click='getStationInfo($event)' track='6' posTime='' posBuss='' negBuss='' negTime=''><img src='./img/stationDot5.png' name='Tortunav\u00e4gen' style='left:77;top: 120px; position:absolute; width:22px' id=7443569 left=77px top=120px stationid=2 ng-click='getStationInfo($event)' track='6' posTime='' posBuss='' negBuss='' negTime=''><img src='./img/stationDot5.png' name='Skiljebomotet' style='left:114;top: 120px; position:absolute; width:22px' id=7437534 left=114px top=120px stationid=3 ng-click='getStationInfo($event)' track='6' posTime='' posBuss='' negBuss='' negTime=''><img src='./img/stationDot5.png' name='\u00c5rbylundsgatan' style='left:151;top: 120px; position:absolute; width:22px' id=7443575 left=151px top=120px stationid=4 ng-click='getStationInfo($event)' track='6' posTime='' posBuss='' negBuss='' negTime=''><img src='./img/stationDot5.png' name='Klockartorpet' style='left:188;top: 120px; position:absolute; width:22px' id=7443576 left=188px top=120px stationid=5 ng-click='getStationInfo($event)' track='6' posTime='' posBuss='' negBuss='' negTime=''><img src='./img/stationDot5.png' name='Klockargatan' style='left:225;top: 120px; position:absolute; width:22px' id=7443577 left=225px top=120px stationid=6 ng-click='getStationInfo($event)' track='6' posTime='' posBuss='' negBuss='' negTime=''><img src='./img/stationDot5.png' name='Kungs\u00e4ngsgatan' style='left:262;top: 120px; position:absolute; width:22px' id=7443544 left=262px top=120px stationid=7 ng-click='getStationInfo($event)' track='6' posTime='' posBuss='' negBuss='' negTime=''><img src='./img/stationDot5.png' name='Pilgatan' style='left:299;top: 120px; position:absolute; width:22px' id=7443374 left=299px top=120px stationid=8 ng-click='getStationInfo($event)' track='6' posTime='' posBuss='' negBuss='' negTime=''><img src='./img/stationDot5.png' name='\u00d6stra Ringv\u00e4gen' style='left:336;top: 120px; position:absolute; width:22px' id=7443375 left=336px top=120px stationid=9 ng-click='getStationInfo($event)' track='6' posTime='' posBuss='' negBuss='' negTime=''><img src='./img/stationDot5.png' name='V\u00e4ster\u00e5s Centralstation' style='left:373;top: 120px; position:absolute; width:22px' id=7400099 left=373px top=120px stationid=10 ng-click='getStationInfo($event)' track='6' posTime='' posBuss='' negBuss='' negTime=''><img src='./img/stationDot5.png' name='Stora Gatan' style='left:410;top: 120px; position:absolute; width:22px' id=7443357 left=410px top=120px stationid=11 ng-click='getStationInfo($event)' track='6' posTime='' posBuss='' negBuss='' negTime=''><img src='./img/stationDot5.png' name='Smedjegatan' style='left:447;top: 120px; position:absolute; width:22px' id=7443469 left=447px top=120px stationid=12 ng-click='getStationInfo($event)' track='6' posTime='' posBuss='' negBuss='' negTime=''><img src='./img/stationDot5.png' name='Rudbecksgatan' style='left:484;top: 120px; position:absolute; width:22px' id=7443468 left=484px top=120px stationid=13 ng-click='getStationInfo($event)' track='6' posTime='' posBuss='' negBuss='' negTime=''><img src='./img/stationDot5.png' name='Norra Ringv\u00e4gen' style='left:521;top: 120px; position:absolute; width:22px' id=7438577 left=521px top=120px stationid=14 ng-click='getStationInfo($event)' track='6' posTime='' posBuss='' negBuss='' negTime=''><img src='./img/stationDot5.png' name='Kristiansborgsbadet' style='left:558;top: 120px; position:absolute; width:22px' id=7443582 left=558px top=120px stationid=15 ng-click='getStationInfo($event)' track='6' posTime='' posBuss='' negBuss='' negTime=''><img src='./img/stationDot5.png' name='Ges\u00e4llgatan' style='left:595;top: 120px; position:absolute; width:22px' id=7443583 left=595px top=120px stationid=16 ng-click='getStationInfo($event)' track='6' posTime='' posBuss='' negBuss='' negTime=''><img src='./img/stationDot5.png' name='Skallbergstorget' style='left:632;top: 120px; position:absolute; width:22px' id=7443584 left=632px top=120px stationid=17 ng-click='getStationInfo($event)' track='6' posTime='' posBuss='' negBuss='' negTime=''><img src='./img/stationDot5.png' name='Dybecksgatan' style='left:669;top: 120px; position:absolute; width:22px' id=7443585 left=669px top=120px stationid=18 ng-click='getStationInfo($event)' track='6' posTime='' posBuss='' negBuss='' negTime=''><img src='./img/stationDot5.png' name='Karlfeldtsplatsen' style='left:706;top: 120px; position:absolute; width:22px' id=7443586 left=706px top=120px stationid=19 ng-click='getStationInfo($event)' track='6' posTime='' posBuss='' negBuss='' negTime=''><img src='./img/stationDot5.png' name='Bellmansgatan' style='left:743;top: 120px; position:absolute; width:22px' id=7443587 left=743px top=120px stationid=20 ng-click='getStationInfo($event)' track='6' posTime='' posBuss='' negBuss='' negTime=''><img src='./img/stationDot5.png' name='Nordanbymotet' style='left:780;top: 120px; position:absolute; width:22px' id=7443604 left=780px top=120px stationid=21 ng-click='getStationInfo($event)' track='6' posTime='' posBuss='' negBuss='' negTime=''><img src='./img/stationDot5.png' name='Isolatorv\u00e4gen' style='left:817;top: 120px; position:absolute; width:22px' id=7470959 left=817px top=120px stationid=22 ng-click='getStationInfo($event)' track='6' posTime='' posBuss='' negBuss='' negTime=''><img src='./img/stationDot5.png' name='Tunbytorp' style='left:854;top: 120px; position:absolute; width:22px' id=7443486 left=854px top=120px stationid=23 ng-click='getStationInfo($event)' track='6' posTime='' posBuss='' negBuss='' negTime=''><img src='./img/stationDot5.png' name='Tunbytorpsgatan' style='left:891;top: 120px; position:absolute; width:22px' id=7443487 left=891px top=120px stationid=24 ng-click='getStationInfo($event)' track='6' posTime='' posBuss='' negBuss='' negTime=''><img src='./img/stationDot5.png' name='Transformatorgatan' style='left:928;top: 120px; position:absolute; width:22px' id=7412565 left=928px top=120px stationid=25 ng-click='getStationInfo($event)' track='6' posTime='' posBuss='' negBuss='' negTime=''><img src='./img/stationDot5.png' name='Tunbytorp norra' style='left:965;top: 120px; position:absolute; width:22px' id=7470960 left=965px top=120px stationid=26 ng-click='getStationInfo($event)' track='6' posTime='' posBuss='' negBuss='' negTime=''><img src='./img/stationDot5.png' name='Returv\u00e4gen' style='left:1002;top: 120px; position:absolute; width:22px' id=7470961 left=1002px top=120px stationid=27 ng-click='getStationInfo($event)' track='6' posTime='' posBuss='' negBuss='' negTime=''>\n"
       ]
      }
     ],
     "prompt_number": 6
    },
    {
     "cell_type": "code",
     "collapsed": false,
     "input": [
      "MotherString = \"<ul id='track5names'>\"\n",
      "for i in range(0,14):\n",
      "    pos = i*2\n",
      "    MotherString = MotherString + \"<li id='\" + name[pos] + \"'>\" + name[pos] + \"</li>\"\n",
      "MotherString = MotherString + \"</ul>\"\n",
      "\n",
      "print MotherString\n",
      "print \"\\r\\n\\r\\n\"\n",
      "\n",
      "MotherString = \"<ul id='track5names2'>\"\n",
      "for i in range(0,13):\n",
      "    pos = i*2 + 1\n",
      "    MotherString = MotherString + \"<li id='\" + name[pos] + \"'>\" + name[pos] + \"</li>\"\n",
      "MotherString = MotherString + \"</ul>\"\n",
      "\n",
      "print MotherString"
     ],
     "language": "python",
     "metadata": {},
     "outputs": []
    }
   ],
   "metadata": {}
  }
 ]
}